{
 "cells": [
  {
   "cell_type": "markdown",
   "id": "c8bc6ea6-532f-41c6-85d5-0a945e481e00",
   "metadata": {
    "editable": true,
    "slideshow": {
     "slide_type": ""
    },
    "tags": []
   },
   "source": [
    "## FINA 4335 with Marius Popescu\n",
    "## Project 2"
   ]
  },
  {
   "cell_type": "markdown",
   "id": "fca7cca0-18c4-4374-8260-41339977cbae",
   "metadata": {},
   "source": [
    "### Instructions"
   ]
  },
  {
   "attachments": {},
   "cell_type": "markdown",
   "id": "9b3f195c-83e5-48be-b380-acb4c58428e7",
   "metadata": {},
   "source": [
    "    1. Upload your group's notebook to Canvas, and a PDF of your notebook to Gradescope. The PDF must be exported from JupyterLab via File > Save and Export Notebook As… > PDF\n",
    "    2. Your notebook must be self-contained (i.e., import data from the web via yfinance or pandas datareader and do not rely on other files)\n",
    "    3. Tips:\n",
    "        a) Your goal is to convince me of your conclusions\n",
    "        b) Remove unnecessary data frame printouts.\n",
    "        c) Remove code that does not serve a purpose."
   ]
  },
  {
   "cell_type": "markdown",
   "id": "9a8605a4-cb05-4878-a9e9-0ce9ffe3e0e3",
   "metadata": {},
   "source": [
    "#### Import the Necessary Libraries"
   ]
  },
  {
   "cell_type": "code",
   "execution_count": 248,
   "id": "b9a97ee8-5a21-42ee-97f7-1c4f0505886e",
   "metadata": {},
   "outputs": [],
   "source": [
    "import datetime as dt\n",
    "import pandas_datareader as pdr\n",
    "import matplotlib.pyplot as plt\n",
    "import seaborn as sns\n",
    "import yfinance as yf\n",
    "import statsmodels.formula.api as smf\n",
    "from statsmodels.regression.rolling import RollingOLS\n",
    "import pandas as pd\n",
    "import warnings\n",
    "warnings.filterwarnings('ignore')"
   ]
  },
  {
   "cell_type": "markdown",
   "id": "88f99064-ddc5-44c1-91ce-a1709663b2ec",
   "metadata": {},
   "source": [
    "### PART I"
   ]
  },
  {
   "cell_type": "markdown",
   "id": "da41f558-7006-4a64-ac5b-208332e95631",
   "metadata": {},
   "source": [
    "    1. In this question, you will examine the effectiveness of the CAPM model. In order to do this, you will need to download the 'Portfolios_Formed_on_BETA' file from Ken French's website at Dartmouth College. Specifically, you will need to use the third dataset (index [2]), which contains the annual returns on two sets of portfolios formed on the previous year's betas. You will need to use the quintile portfolios (Lo20 through Hi20) for your analysis.\n",
    "        a. Compute and plot the average annual return for each of the five portfolios. How do you interpret the results?\n",
    "        b. Compute and plot the value of $1 invested in each of the five portfolios at the end of trading in 1963. How do you interpret the results?\n",
    "        c. What can you conclude based on the evidence in part a) and part b)."
   ]
  },
  {
   "cell_type": "code",
   "execution_count": 249,
   "id": "6d3884f4-7d97-4871-af0d-4554a0a88ec8",
   "metadata": {},
   "outputs": [],
   "source": [
    "port_beta= pdr.get_data_famafrench('Portfolios_Formed_on_BETA', start=dt.datetime(1900,1,1))[2]\n",
    "port_beta = port_beta.iloc[:,:5]"
   ]
  },
  {
   "cell_type": "code",
   "execution_count": 250,
   "id": "34bf0d30",
   "metadata": {},
   "outputs": [],
   "source": [
    "#print(port_beta['DESCR'])"
   ]
  },
  {
   "cell_type": "code",
   "execution_count": 251,
   "id": "ba5f3b59",
   "metadata": {},
   "outputs": [
    {
     "data": {
      "image/png": "[encoded data removed]",
      "text/plain": [
       "<Figure size 640x480 with 1 Axes>"
      ]
     },
     "metadata": {},
     "output_type": "display_data"
    }
   ],
   "source": [
    "#average annual return across all 5 portfolios\n",
    "plt.bar(port_beta.columns,port_beta.mean(axis=0))\n",
    "#port_beta.mean.plot()\n",
    "plt.title(\"Average Annual Return\")\n",
    "plt.ylabel(\"Average Return\")\n",
    "plt.grid(axis='y', linestyle='--', alpha=0.7)\n",
    "plt.xlabel(\"Year\");"
   ]
  },
  {
   "cell_type": "code",
   "execution_count": 274,
   "id": "b2b39084",
   "metadata": {},
   "outputs": [
    {
     "data": {
      "text/html": [
       "<div>\n",
       "<style scoped>\n",
       "    .dataframe tbody tr th:only-of-type {\n",
       "        vertical-align: middle;\n",
       "    }\n",
       "\n",
       "    .dataframe tbody tr th {\n",
       "        vertical-align: top;\n",
       "    }\n",
       "\n",
       "    .dataframe thead th {\n",
       "        text-align: right;\n",
       "    }\n",
       "</style>\n",
       "<table border=\"1\" class=\"dataframe\">\n",
       "  <thead>\n",
       "    <tr style=\"text-align: right;\">\n",
       "      <th></th>\n",
       "      <th>Lo 20</th>\n",
       "      <th>Qnt 2</th>\n",
       "      <th>Qnt 3</th>\n",
       "      <th>Qnt 4</th>\n",
       "      <th>Hi 20</th>\n",
       "    </tr>\n",
       "    <tr>\n",
       "      <th>Date</th>\n",
       "      <th></th>\n",
       "      <th></th>\n",
       "      <th></th>\n",
       "      <th></th>\n",
       "      <th></th>\n",
       "    </tr>\n",
       "  </thead>\n",
       "  <tbody>\n",
       "    <tr>\n",
       "      <th>1964</th>\n",
       "      <td>1.787000e+01</td>\n",
       "      <td>2.075000e+01</td>\n",
       "      <td>1.866000e+01</td>\n",
       "      <td>9.730000e+00</td>\n",
       "      <td>1.355000e+01</td>\n",
       "    </tr>\n",
       "    <tr>\n",
       "      <th>1965</th>\n",
       "      <td>1.736964e+02</td>\n",
       "      <td>1.655850e+02</td>\n",
       "      <td>3.060240e+02</td>\n",
       "      <td>2.518124e+02</td>\n",
       "      <td>6.865785e+02</td>\n",
       "    </tr>\n",
       "    <tr>\n",
       "      <th>1966</th>\n",
       "      <td>-1.432995e+03</td>\n",
       "      <td>-1.849584e+03</td>\n",
       "      <td>-2.478794e+03</td>\n",
       "      <td>-4.356355e+02</td>\n",
       "      <td>-8.238942e+02</td>\n",
       "    </tr>\n",
       "    <tr>\n",
       "      <th>1967</th>\n",
       "      <td>-2.067812e+04</td>\n",
       "      <td>-4.265142e+04</td>\n",
       "      <td>-8.167628e+04</td>\n",
       "      <td>-1.907648e+04</td>\n",
       "      <td>-4.296608e+04</td>\n",
       "    </tr>\n",
       "    <tr>\n",
       "      <th>1968</th>\n",
       "      <td>-3.475992e+05</td>\n",
       "      <td>-4.316323e+05</td>\n",
       "      <td>-1.195741e+06</td>\n",
       "      <td>-2.943500e+05</td>\n",
       "      <td>-1.084464e+06</td>\n",
       "    </tr>\n",
       "    <tr>\n",
       "      <th>...</th>\n",
       "      <td>...</td>\n",
       "      <td>...</td>\n",
       "      <td>...</td>\n",
       "      <td>...</td>\n",
       "      <td>...</td>\n",
       "    </tr>\n",
       "    <tr>\n",
       "      <th>2020</th>\n",
       "      <td>1.623893e+61</td>\n",
       "      <td>6.022547e+64</td>\n",
       "      <td>-5.934755e+62</td>\n",
       "      <td>2.872995e+68</td>\n",
       "      <td>1.035308e+72</td>\n",
       "    </tr>\n",
       "    <tr>\n",
       "      <th>2021</th>\n",
       "      <td>3.174711e+62</td>\n",
       "      <td>1.795924e+66</td>\n",
       "      <td>-8.824980e+63</td>\n",
       "      <td>1.418110e+70</td>\n",
       "      <td>2.898863e+73</td>\n",
       "    </tr>\n",
       "    <tr>\n",
       "      <th>2022</th>\n",
       "      <td>-1.981020e+63</td>\n",
       "      <td>-3.564908e+67</td>\n",
       "      <td>1.219612e+65</td>\n",
       "      <td>-3.341067e+71</td>\n",
       "      <td>-1.122440e+75</td>\n",
       "    </tr>\n",
       "    <tr>\n",
       "      <th>2023</th>\n",
       "      <td>-6.477934e+63</td>\n",
       "      <td>-1.032041e+69</td>\n",
       "      <td>3.322224e+66</td>\n",
       "      <td>-1.515842e+73</td>\n",
       "      <td>-8.506971e+76</td>\n",
       "    </tr>\n",
       "    <tr>\n",
       "      <th>2024</th>\n",
       "      <td>-8.589740e+64</td>\n",
       "      <td>-2.387111e+70</td>\n",
       "      <td>7.661048e+67</td>\n",
       "      <td>-3.833565e+74</td>\n",
       "      <td>-8.416798e+78</td>\n",
       "    </tr>\n",
       "  </tbody>\n",
       "</table>\n",
       "<p>61 rows × 5 columns</p>\n",
       "</div>"
      ],
      "text/plain": [
       "             Lo 20         Qnt 2         Qnt 3         Qnt 4         Hi 20\n",
       "Date                                                                      \n",
       "1964  1.787000e+01  2.075000e+01  1.866000e+01  9.730000e+00  1.355000e+01\n",
       "1965  1.736964e+02  1.655850e+02  3.060240e+02  2.518124e+02  6.865785e+02\n",
       "1966 -1.432995e+03 -1.849584e+03 -2.478794e+03 -4.356355e+02 -8.238942e+02\n",
       "1967 -2.067812e+04 -4.265142e+04 -8.167628e+04 -1.907648e+04 -4.296608e+04\n",
       "1968 -3.475992e+05 -4.316323e+05 -1.195741e+06 -2.943500e+05 -1.084464e+06\n",
       "...            ...           ...           ...           ...           ...\n",
       "2020  1.623893e+61  6.022547e+64 -5.934755e+62  2.872995e+68  1.035308e+72\n",
       "2021  3.174711e+62  1.795924e+66 -8.824980e+63  1.418110e+70  2.898863e+73\n",
       "2022 -1.981020e+63 -3.564908e+67  1.219612e+65 -3.341067e+71 -1.122440e+75\n",
       "2023 -6.477934e+63 -1.032041e+69  3.322224e+66 -1.515842e+73 -8.506971e+76\n",
       "2024 -8.589740e+64 -2.387111e+70  7.661048e+67 -3.833565e+74 -8.416798e+78\n",
       "\n",
       "[61 rows x 5 columns]"
      ]
     },
     "execution_count": 274,
     "metadata": {},
     "output_type": "execute_result"
    },
    {
     "data": {
      "image/png": "[encoded data removed]",
      "text/plain": [
       "<Figure size 640x480 with 1 Axes>"
      ]
     },
     "metadata": {},
     "output_type": "display_data"
    }
   ],
   "source": [
    "data1963 = port_beta.fillna(0).loc['1963':]\n",
    "\n",
    "cumulative_value = (1 + data1963).cumprod()\n",
    "cumulative_value.plot()\n",
    "cumulative_value"
   ]
  },
  {
   "cell_type": "markdown",
   "id": "3492a52d-f9fd-4481-900b-6eaa93c5f314",
   "metadata": {},
   "source": [
    "    2. In this question, you will explore the Fama-French SIZE factor. In order to do this, you will need to download the 'Portfolios_Formed_on_ME' file from Ken French's website at Dartmouth College. Specifically, you will need to use the second dataset (index [1]), which contains the monthly returns on two sets of portfolios formed on the previous year's market capitalization . You will need to use the decile portfolios (Lo10 through Hi10) for your analysis.\n",
    "        a. Create a DF labeled alphas85 to store the intercepts and pvalues from the CAPM model for the ten portfolios over the sample period 1926 - 1985. Create a plot of the intercepts. How do you interpret the results?\n",
    "        b. Repeat the analysis in part a, but this time using the sample period 1986 - 2024. How do you interpret the results?\n",
    "        c. What can you conclude based on the evidence in part a) and part b).\n",
    "        d. Are the returns on the ten portfolios formed on size concentrated in a specific month? Use statistics and plots to justify your answer."
   ]
  },
  {
   "cell_type": "code",
   "execution_count": 214,
   "id": "922451f1-1029-4bd3-bec3-757c357bec5b",
   "metadata": {},
   "outputs": [],
   "source": [
    "port_me= pdr.get_data_famafrench('Portfolios_Formed_on_ME', start=dt.datetime(1900,1,1))[1]\n",
    "port_me=port_me.iloc[:,9:]\n"
   ]
  },
  {
   "cell_type": "code",
   "execution_count": 215,
   "id": "f8947639",
   "metadata": {},
   "outputs": [],
   "source": [
    "port_me.index = port_me.index.to_timestamp()\n",
    "port_me=port_me.resample('ME').last()"
   ]
  },
  {
   "cell_type": "code",
   "execution_count": 216,
   "id": "da09b2c8",
   "metadata": {},
   "outputs": [],
   "source": [
    "ff_factors = pdr.get_data_famafrench('F-F_Research_Data_Factors',start=dt.datetime(1900,1,1))[0]\n",
    "ff_factors.index = ff_factors.index.to_timestamp(how='end').normalize()"
   ]
  },
  {
   "cell_type": "code",
   "execution_count": 217,
   "id": "36be3c68",
   "metadata": {},
   "outputs": [
    {
     "data": {
      "text/html": [
       "<div>\n",
       "<style scoped>\n",
       "    .dataframe tbody tr th:only-of-type {\n",
       "        vertical-align: middle;\n",
       "    }\n",
       "\n",
       "    .dataframe tbody tr th {\n",
       "        vertical-align: top;\n",
       "    }\n",
       "\n",
       "    .dataframe thead th {\n",
       "        text-align: right;\n",
       "    }\n",
       "</style>\n",
       "<table border=\"1\" class=\"dataframe\">\n",
       "  <thead>\n",
       "    <tr style=\"text-align: right;\">\n",
       "      <th></th>\n",
       "      <th>Lo 10</th>\n",
       "      <th>Dec 2</th>\n",
       "      <th>Dec 3</th>\n",
       "      <th>Dec 4</th>\n",
       "      <th>Dec 5</th>\n",
       "      <th>Dec 6</th>\n",
       "      <th>Dec 7</th>\n",
       "      <th>Dec 8</th>\n",
       "      <th>Dec 9</th>\n",
       "      <th>Hi 10</th>\n",
       "      <th>Mkt-RF</th>\n",
       "      <th>SMB</th>\n",
       "      <th>HML</th>\n",
       "      <th>RF</th>\n",
       "    </tr>\n",
       "    <tr>\n",
       "      <th>Date</th>\n",
       "      <th></th>\n",
       "      <th></th>\n",
       "      <th></th>\n",
       "      <th></th>\n",
       "      <th></th>\n",
       "      <th></th>\n",
       "      <th></th>\n",
       "      <th></th>\n",
       "      <th></th>\n",
       "      <th></th>\n",
       "      <th></th>\n",
       "      <th></th>\n",
       "      <th></th>\n",
       "      <th></th>\n",
       "    </tr>\n",
       "  </thead>\n",
       "  <tbody>\n",
       "    <tr>\n",
       "      <th>1926-07-31</th>\n",
       "      <td>-1.42</td>\n",
       "      <td>0.29</td>\n",
       "      <td>-0.15</td>\n",
       "      <td>0.88</td>\n",
       "      <td>1.45</td>\n",
       "      <td>1.85</td>\n",
       "      <td>1.63</td>\n",
       "      <td>1.38</td>\n",
       "      <td>3.38</td>\n",
       "      <td>3.29</td>\n",
       "      <td>2.96</td>\n",
       "      <td>-2.56</td>\n",
       "      <td>-2.43</td>\n",
       "      <td>0.22</td>\n",
       "    </tr>\n",
       "    <tr>\n",
       "      <th>1926-08-31</th>\n",
       "      <td>4.61</td>\n",
       "      <td>2.59</td>\n",
       "      <td>4.03</td>\n",
       "      <td>3.24</td>\n",
       "      <td>2.66</td>\n",
       "      <td>4.67</td>\n",
       "      <td>1.54</td>\n",
       "      <td>1.63</td>\n",
       "      <td>0.98</td>\n",
       "      <td>3.70</td>\n",
       "      <td>2.64</td>\n",
       "      <td>-1.17</td>\n",
       "      <td>3.82</td>\n",
       "      <td>0.25</td>\n",
       "    </tr>\n",
       "    <tr>\n",
       "      <th>1926-09-30</th>\n",
       "      <td>0.91</td>\n",
       "      <td>-1.87</td>\n",
       "      <td>-2.27</td>\n",
       "      <td>-0.84</td>\n",
       "      <td>0.12</td>\n",
       "      <td>-0.07</td>\n",
       "      <td>-1.58</td>\n",
       "      <td>0.64</td>\n",
       "      <td>-0.86</td>\n",
       "      <td>0.67</td>\n",
       "      <td>0.36</td>\n",
       "      <td>-1.40</td>\n",
       "      <td>0.13</td>\n",
       "      <td>0.23</td>\n",
       "    </tr>\n",
       "    <tr>\n",
       "      <th>1926-10-31</th>\n",
       "      <td>-4.72</td>\n",
       "      <td>-1.77</td>\n",
       "      <td>-3.36</td>\n",
       "      <td>-5.01</td>\n",
       "      <td>-3.09</td>\n",
       "      <td>-2.71</td>\n",
       "      <td>-3.45</td>\n",
       "      <td>-3.27</td>\n",
       "      <td>-3.47</td>\n",
       "      <td>-2.43</td>\n",
       "      <td>-3.24</td>\n",
       "      <td>-0.09</td>\n",
       "      <td>0.70</td>\n",
       "      <td>0.32</td>\n",
       "    </tr>\n",
       "    <tr>\n",
       "      <th>1926-11-30</th>\n",
       "      <td>-0.77</td>\n",
       "      <td>-0.32</td>\n",
       "      <td>-0.29</td>\n",
       "      <td>4.79</td>\n",
       "      <td>3.17</td>\n",
       "      <td>3.58</td>\n",
       "      <td>3.80</td>\n",
       "      <td>2.95</td>\n",
       "      <td>3.61</td>\n",
       "      <td>2.70</td>\n",
       "      <td>2.53</td>\n",
       "      <td>-0.10</td>\n",
       "      <td>-0.51</td>\n",
       "      <td>0.31</td>\n",
       "    </tr>\n",
       "    <tr>\n",
       "      <th>...</th>\n",
       "      <td>...</td>\n",
       "      <td>...</td>\n",
       "      <td>...</td>\n",
       "      <td>...</td>\n",
       "      <td>...</td>\n",
       "      <td>...</td>\n",
       "      <td>...</td>\n",
       "      <td>...</td>\n",
       "      <td>...</td>\n",
       "      <td>...</td>\n",
       "      <td>...</td>\n",
       "      <td>...</td>\n",
       "      <td>...</td>\n",
       "      <td>...</td>\n",
       "    </tr>\n",
       "    <tr>\n",
       "      <th>2024-08-31</th>\n",
       "      <td>-5.40</td>\n",
       "      <td>-3.51</td>\n",
       "      <td>-3.95</td>\n",
       "      <td>-0.33</td>\n",
       "      <td>-1.35</td>\n",
       "      <td>-1.06</td>\n",
       "      <td>0.91</td>\n",
       "      <td>1.71</td>\n",
       "      <td>1.88</td>\n",
       "      <td>3.06</td>\n",
       "      <td>1.61</td>\n",
       "      <td>-3.55</td>\n",
       "      <td>-1.13</td>\n",
       "      <td>0.48</td>\n",
       "    </tr>\n",
       "    <tr>\n",
       "      <th>2024-09-30</th>\n",
       "      <td>-0.89</td>\n",
       "      <td>-1.45</td>\n",
       "      <td>0.60</td>\n",
       "      <td>0.37</td>\n",
       "      <td>1.98</td>\n",
       "      <td>1.38</td>\n",
       "      <td>2.31</td>\n",
       "      <td>2.10</td>\n",
       "      <td>2.50</td>\n",
       "      <td>1.78</td>\n",
       "      <td>1.74</td>\n",
       "      <td>-0.17</td>\n",
       "      <td>-2.59</td>\n",
       "      <td>0.40</td>\n",
       "    </tr>\n",
       "    <tr>\n",
       "      <th>2024-10-31</th>\n",
       "      <td>0.35</td>\n",
       "      <td>-0.37</td>\n",
       "      <td>0.02</td>\n",
       "      <td>-1.82</td>\n",
       "      <td>-0.37</td>\n",
       "      <td>-1.38</td>\n",
       "      <td>0.28</td>\n",
       "      <td>-1.15</td>\n",
       "      <td>-0.20</td>\n",
       "      <td>-0.94</td>\n",
       "      <td>-0.97</td>\n",
       "      <td>-1.01</td>\n",
       "      <td>0.89</td>\n",
       "      <td>0.39</td>\n",
       "    </tr>\n",
       "    <tr>\n",
       "      <th>2024-11-30</th>\n",
       "      <td>8.44</td>\n",
       "      <td>9.98</td>\n",
       "      <td>11.64</td>\n",
       "      <td>11.43</td>\n",
       "      <td>13.47</td>\n",
       "      <td>9.92</td>\n",
       "      <td>8.87</td>\n",
       "      <td>8.18</td>\n",
       "      <td>8.62</td>\n",
       "      <td>6.55</td>\n",
       "      <td>6.51</td>\n",
       "      <td>4.63</td>\n",
       "      <td>-0.05</td>\n",
       "      <td>0.40</td>\n",
       "    </tr>\n",
       "    <tr>\n",
       "      <th>2024-12-31</th>\n",
       "      <td>2.13</td>\n",
       "      <td>-7.03</td>\n",
       "      <td>-8.22</td>\n",
       "      <td>-7.57</td>\n",
       "      <td>-7.67</td>\n",
       "      <td>-8.08</td>\n",
       "      <td>-6.74</td>\n",
       "      <td>-6.49</td>\n",
       "      <td>-6.77</td>\n",
       "      <td>-5.46</td>\n",
       "      <td>-3.17</td>\n",
       "      <td>-2.73</td>\n",
       "      <td>-2.95</td>\n",
       "      <td>0.37</td>\n",
       "    </tr>\n",
       "  </tbody>\n",
       "</table>\n",
       "<p>1182 rows × 14 columns</p>\n",
       "</div>"
      ],
      "text/plain": [
       "            Lo 10  Dec 2  Dec 3  Dec 4  Dec 5  Dec 6  Dec 7  Dec 8  Dec 9  \\\n",
       "Date                                                                        \n",
       "1926-07-31  -1.42   0.29  -0.15   0.88   1.45   1.85   1.63   1.38   3.38   \n",
       "1926-08-31   4.61   2.59   4.03   3.24   2.66   4.67   1.54   1.63   0.98   \n",
       "1926-09-30   0.91  -1.87  -2.27  -0.84   0.12  -0.07  -1.58   0.64  -0.86   \n",
       "1926-10-31  -4.72  -1.77  -3.36  -5.01  -3.09  -2.71  -3.45  -3.27  -3.47   \n",
       "1926-11-30  -0.77  -0.32  -0.29   4.79   3.17   3.58   3.80   2.95   3.61   \n",
       "...           ...    ...    ...    ...    ...    ...    ...    ...    ...   \n",
       "2024-08-31  -5.40  -3.51  -3.95  -0.33  -1.35  -1.06   0.91   1.71   1.88   \n",
       "2024-09-30  -0.89  -1.45   0.60   0.37   1.98   1.38   2.31   2.10   2.50   \n",
       "2024-10-31   0.35  -0.37   0.02  -1.82  -0.37  -1.38   0.28  -1.15  -0.20   \n",
       "2024-11-30   8.44   9.98  11.64  11.43  13.47   9.92   8.87   8.18   8.62   \n",
       "2024-12-31   2.13  -7.03  -8.22  -7.57  -7.67  -8.08  -6.74  -6.49  -6.77   \n",
       "\n",
       "            Hi 10  Mkt-RF   SMB   HML    RF  \n",
       "Date                                         \n",
       "1926-07-31   3.29    2.96 -2.56 -2.43  0.22  \n",
       "1926-08-31   3.70    2.64 -1.17  3.82  0.25  \n",
       "1926-09-30   0.67    0.36 -1.40  0.13  0.23  \n",
       "1926-10-31  -2.43   -3.24 -0.09  0.70  0.32  \n",
       "1926-11-30   2.70    2.53 -0.10 -0.51  0.31  \n",
       "...           ...     ...   ...   ...   ...  \n",
       "2024-08-31   3.06    1.61 -3.55 -1.13  0.48  \n",
       "2024-09-30   1.78    1.74 -0.17 -2.59  0.40  \n",
       "2024-10-31  -0.94   -0.97 -1.01  0.89  0.39  \n",
       "2024-11-30   6.55    6.51  4.63 -0.05  0.40  \n",
       "2024-12-31  -5.46   -3.17 -2.73 -2.95  0.37  \n",
       "\n",
       "[1182 rows x 14 columns]"
      ]
     },
     "execution_count": 217,
     "metadata": {},
     "output_type": "execute_result"
    }
   ],
   "source": [
    "port_me = port_me.join(ff_factors)\n",
    "port_me"
   ]
  },
  {
   "cell_type": "code",
   "execution_count": 218,
   "id": "0202710c",
   "metadata": {},
   "outputs": [],
   "source": [
    "port_me_85 = port_me.loc['1926':'1985']\n",
    "port_me_24 = port_me.loc['1986':]"
   ]
  },
  {
   "cell_type": "code",
   "execution_count": 219,
   "id": "5c2fa16c",
   "metadata": {},
   "outputs": [],
   "source": [
    "def capm(data, port):\n",
    "    data['Excess'] = data[port] - data['RF']\n",
    "    model = smf.ols('Excess ~ Q(\"Mkt-RF\")', data=data, missing=\"drop\").fit()\n",
    "    #summary = model.summary(yname = 'MSFT Return', xname = ['Alpha', 'MKTRF Beta'])\n",
    "    return model"
   ]
  },
  {
   "cell_type": "code",
   "execution_count": 220,
   "id": "9694e18a",
   "metadata": {},
   "outputs": [],
   "source": [
    "portfolios = [\"Lo 10\", \"Dec 2\", \"Dec 3\", \"Dec 4\", \"Dec 5\", \"Dec 6\", \"Dec 7\", \"Dec 8\", \"Dec 9\", \"Hi 10\"]\n",
    "alphas85 = pd.DataFrame(index=portfolios, columns=['alpha', 'p_value'])\n",
    "alphas24 = pd.DataFrame(index=portfolios, columns=['alpha', 'p_value'])\n",
    "for port in portfolios:\n",
    "    model = capm(port_me_85, port)\n",
    "    model2 = capm(port_me_24, port)\n",
    "    alphas85.loc[port, 'alpha'] = model.params[0]  # Intercept is alpha\n",
    "    alphas85.loc[port, 'p_value'] = model.pvalues[0]\n",
    "    alphas24.loc[port, 'alpha'] = model2.params[0]  # Intercept is alpha\n",
    "    alphas24.loc[port, 'p_value'] = model2.pvalues[0]"
   ]
  },
  {
   "cell_type": "code",
   "execution_count": 221,
   "id": "78553de8",
   "metadata": {},
   "outputs": [
    {
     "data": {
      "text/plain": [
       "Text(0, 0.5, 'Intercept')"
      ]
     },
     "execution_count": 221,
     "metadata": {},
     "output_type": "execute_result"
    },
    {
     "data": {
      "image/png": "[encoded data removed]",
      "text/plain": [
       "<Figure size 640x480 with 1 Axes>"
      ]
     },
     "metadata": {},
     "output_type": "display_data"
    }
   ],
   "source": [
    "plt.scatter(alphas85.index, alphas85['alpha'].astype(float))\n",
    "plt.axhline(y=0, color='red', linestyle='--')\n",
    "plt.title('CAPM Intercepts (1926-1985)')\n",
    "plt.xticks()\n",
    "plt.xlabel('Portfolio Deciles (Lo10 to Hi10)')\n",
    "plt.ylabel('Intercept')"
   ]
  },
  {
   "cell_type": "code",
   "execution_count": 222,
   "id": "6c073a9a",
   "metadata": {},
   "outputs": [
    {
     "data": {
      "text/plain": [
       "Text(0, 0.5, 'Intercept')"
      ]
     },
     "execution_count": 222,
     "metadata": {},
     "output_type": "execute_result"
    },
    {
     "data": {
      "image/png": "[encoded data removed]",
      "text/plain": [
       "<Figure size 640x480 with 1 Axes>"
      ]
     },
     "metadata": {},
     "output_type": "display_data"
    }
   ],
   "source": [
    "plt.scatter(alphas24.index, alphas24['alpha'].astype(float))\n",
    "plt.title('CAPM Intercepts (1926-1985)')\n",
    "plt.axhline(y=0, color='red', linestyle='--')\n",
    "plt.xticks()\n",
    "plt.xlabel('Portfolio Deciles (Lo10 to Hi10)')\n",
    "plt.ylabel('Intercept')"
   ]
  },
  {
   "cell_type": "code",
   "execution_count": 223,
   "id": "a5ba7da6",
   "metadata": {},
   "outputs": [
    {
     "data": {
      "image/png": "[encoded data removed]",
      "text/plain": [
       "<Figure size 1000x600 with 1 Axes>"
      ]
     },
     "metadata": {},
     "output_type": "display_data"
    }
   ],
   "source": [
    "monthly_grouped = port_me.iloc[:,:10].groupby(port_me.index.month)\n",
    "monthly_avg_returns = monthly_grouped.mean().mean(axis=1)\n",
    "\n",
    "monthly_avg_returns.plot(kind='bar', figsize=(10, 6), edgecolor='black')\n",
    "plt.title('Average Monthly Returns (All Deciles)')\n",
    "plt.xlabel('Month')\n",
    "plt.ylabel('Average Return (%)')\n",
    "plt.xticks(ticks=range(12), labels=[\n",
    "    'Jan.', 'Feb.', 'Mar.', 'Apr.', 'May', 'Jun.',\n",
    "    'Jul.', 'Aug.', 'Sep.', 'Oct.', 'Nov.', 'Dec.'], rotation=0)\n",
    "plt.grid(axis='y') \n",
    "plt.tight_layout()\n",
    "plt.show()"
   ]
  },
  {
   "cell_type": "markdown",
   "id": "8be7e485-2775-4762-8927-18fa62b0e63d",
   "metadata": {},
   "source": [
    "### PART II"
   ]
  },
  {
   "cell_type": "markdown",
   "id": "094c67f1-d85e-4689-965e-7983cd35fda0",
   "metadata": {},
   "source": [
    "    3. a. Display the results obtained from applying the Fama-French three-factor model to Berkshire Hathaway's daily returns over its entire history (ticker is 'BRK-A'). What is Berkshire's annualized alpha over its entire history? Comment on Berkshire's portfolio allocation.\n",
    "    b. Create a DataFrame named coefs to store the coefficient estimates from applying the Fama-French three-factor model to Berkshire Hathaway's returns using a three-year rolling window (Assume there are 250 trading days in a year). Comment on how Berkshire's alpha and betas changed over the past four decades? Use statistics and plots to justify your answer.\n",
    "    c. What was the most successful 3-year period in Berkshire's history?"
   ]
  },
  {
   "cell_type": "code",
   "execution_count": null,
   "id": "bc9d20de-cfec-49ff-af50-8eec21d9b217",
   "metadata": {},
   "outputs": [],
   "source": []
  },
  {
   "cell_type": "markdown",
   "id": "29fb96cd-5c54-4736-85b2-7f10e1a4775d",
   "metadata": {},
   "source": [
    "### PART III"
   ]
  },
  {
   "cell_type": "markdown",
   "id": "f4402fcc-c50f-4a40-8f27-d1faf6747427",
   "metadata": {},
   "source": [
    "    4. Implement the following three algorithmic trading strategies, using the monthly market factor from Ken French's website: \n",
    "        1) a 12-month SMA strategy (SMA(12)). Specifically, buy the market when the closing price crosses SMA(12) from below and sell it when the closing price crosses SMA(12) from above.\n",
    "        2) The same strategy as in 1), but this time you can invest in the risk-free asset if you are not invested in the market.\n",
    "        3) a 12-month SMA strategy where you short sell. Specifically, buy the market when the closing price is above the SMA(12) and sell it when the closing price is below the SMA(12).\n",
    "    a. Compare these three strategies with a fouth strategy: buying and holding the market. Which was the best performer?\n",
    "    b. Which of the four strategies was the best investment?\n",
    "     (Use statistics and plots to justify your answers.) "
   ]
  },
  {
   "cell_type": "code",
   "execution_count": null,
   "id": "a4052b50-28f5-4d3c-8fb6-cfe0be54be4f",
   "metadata": {},
   "outputs": [],
   "source": []
  }
 ],
 "metadata": {
  "kernelspec": {
   "display_name": "base",
   "language": "python",
   "name": "python3"
  },
  "language_info": {
   "codemirror_mode": {
    "name": "ipython",
    "version": 3
   },
   "file_extension": ".py",
   "mimetype": "text/x-python",
   "name": "python",
   "nbconvert_exporter": "python",
   "pygments_lexer": "ipython3",
   "version": "3.11.9"
  }
 },
 "nbformat": 4,
 "nbformat_minor": 5
}
